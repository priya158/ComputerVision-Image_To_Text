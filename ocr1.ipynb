Libraries need to be installed before running the code

Steps :
 1. !pip install pytesseract
 2. !pip install tesseract
 3. !pip install opencv-python
 4. !pip install pillow
 5. !pip install googletrans
 6. !pip install translate

Code:


from PIL import Image
from pytesseract import pytesseract
from translate import Translator


path_to_tesseract = r"C:\Program Files\Tesseract-OCR\tesseract.exe"
image_path = r"C:\Users\DELL\Desktop\images.png"
img = Image.open(image_path)
    
pytesseract.tesseract_cmd = path_to_tesseract
text = pytesseract.image_to_string(img)
print(text)
print("-----------------------------------------------------------")
tran = Translator(to_lang="hi")
tr = tran.translate(text)

print(tr)